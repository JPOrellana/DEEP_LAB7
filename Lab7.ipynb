{
 "cells": [
  {
   "cell_type": "markdown",
   "metadata": {},
   "source": [
    "# Laboratorio 7 - Deep Reinforcement Learning\n",
    "**Universidad del Valle de Guatemala**\\\n",
    "**Facultad de Ingeniería**\\\n",
    "**Departamento de Ciencias de la Computación**\\\n",
    "**Deep Learning**\n",
    "---\n",
    "Integrantes:\n",
    "- Diego Leiva\n",
    "- Pablo Orellana\n",
    "- Maria Marta Ramirez\n",
    "- Gabriel Garcia\n",
    "- Luis Montenegro"
   ]
  },
  {
   "cell_type": "code",
   "execution_count": null,
   "metadata": {},
   "outputs": [],
   "source": []
  }
 ],
 "metadata": {
  "language_info": {
   "name": "python"
  }
 },
 "nbformat": 4,
 "nbformat_minor": 2
}
